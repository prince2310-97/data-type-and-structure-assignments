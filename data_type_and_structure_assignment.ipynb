{
  "nbformat": 4,
  "nbformat_minor": 0,
  "metadata": {
    "colab": {
      "provenance": []
    },
    "kernelspec": {
      "name": "python3",
      "display_name": "Python 3"
    },
    "language_info": {
      "name": "python"
    }
  },
  "cells": [
    {
      "cell_type": "markdown",
      "source": [],
      "metadata": {
        "id": "JgOuK_Kjn8zw"
      }
    },
    {
      "cell_type": "markdown",
      "source": [
        "1. What are data structures, and why are they important ?\n",
        "\n",
        " - A data structure is a way of organizing and storing data in a computer so that it can be accessed and used efficiently and They define the relationships between data elements and the operations that can be performed on them.\n",
        "  - important\n",
        "\n",
        "    - Choosing the right data structure significantly impacts the efficiency and performance of your program.\n",
        "    -  Well-chosen data structures can:-\n",
        "    - Simplify data manipulation (adding, removing, modifying elements)\n",
        "    - Optimize searching and sorting operations\n",
        "    - Conserve memory usage"
      ],
      "metadata": {
        "id": "-FApwQVEn9_1"
      }
    },
    {
      "cell_type": "markdown",
      "source": [
        "2 .  Explain the difference between mutable and immutable data types with examples ?\n",
        "\n",
        "- mutable types (like lists, dictionaries) can be changed after creation, while immutable types (like strings, tuples) cannot be altered once defined, ensuring data integrity and safety."
      ],
      "metadata": {
        "id": "z8dQoWMnqm_-"
      }
    },
    {
      "cell_type": "markdown",
      "source": [
        "3. What are the main differences between lists and tuples in Python ?\n",
        " - list is a collection which is ordered and changeable. Allows duplicate members.\n",
        " -  Tuple is a collection which is ordered and unchangeable."
      ],
      "metadata": {
        "id": "bknsHeW-sK9C"
      }
    },
    {
      "cell_type": "markdown",
      "source": [
        "4 . Describe how dictionaries store data ?\n",
        " - Dictionaries store data as key-value pairs using a data structure called a hash table."
      ],
      "metadata": {
        "id": "WNkJqWaatSl3"
      }
    },
    {
      "cell_type": "markdown",
      "source": [
        "5. Why might you use a set instead of a list in Python ?\n",
        "-  Sets are unordered collections of unique elements, while lists are ordered collections that can contain duplicates."
      ],
      "metadata": {
        "id": "iFEPHisRuMf-"
      }
    },
    {
      "cell_type": "markdown",
      "source": [
        "6. What is a string in Python, and how is it different from a list ?\n",
        " - In Python  string is an immutable sequence of characters enclosed in single or double quotes, while a list is a mutable, ordered sequence of items enclosed in square brackets. Strings can only contain characters, while lists can contain items of any data type."
      ],
      "metadata": {
        "id": "mO5X0soEuy69"
      }
    },
    {
      "cell_type": "markdown",
      "source": [
        "7.  How do tuples ensure data integrity in Python?\n",
        "- Tuples ensure data integrity in Python being immutable, meaning their contents cannot be changed after creation. This prevents accidental modifications, allows them to be used as dictionary keys or set elements (because they are hashable), and ensures consistent, reliable data structures."
      ],
      "metadata": {
        "id": "lJSrIQ1UviEa"
      }
    },
    {
      "cell_type": "markdown",
      "source": [
        "8. What is a hash table, and how does it relate to dictionaries in Python?\n",
        "- A hash table is a data structure that stores key-value pairs using a hash function to compute an index for each key. In Python, dictionaries are implemented using hash tables, allowing for fast lookups, insertions, and deletions with average O(1) time complexity."
      ],
      "metadata": {
        "id": "sf4-SzF8wYeZ"
      }
    },
    {
      "cell_type": "markdown",
      "source": [
        "9. Can lists contain different data types in Python?\n",
        "- Yes, lists in Python can contain different data types, such as integers, strings, floats, or even other lists and objects.\n",
        "\n",
        "\n",
        "\n",
        "\n",
        "\n",
        "\n",
        "\n",
        "\n"
      ],
      "metadata": {
        "id": "EpYlehjsw8R7"
      }
    },
    {
      "cell_type": "markdown",
      "source": [
        "10. Explain why strings are immutable in Python?\n",
        "- Strings are immutable in Python to ensure data integrity, security, and performance, allowing safe sharing and use as dictionary keys."
      ],
      "metadata": {
        "id": "sYjyed23xYZ7"
      }
    },
    {
      "cell_type": "markdown",
      "source": [
        "11. What advantages do dictionaries offer over lists for certain tasks?\n",
        "- Dictionaries offer faster lookups, key-based access, and better organization for related data, making them ideal for tasks involving unique identifiers."
      ],
      "metadata": {
        "id": "HPMC9Zmcx81e"
      }
    },
    {
      "cell_type": "markdown",
      "source": [
        "12. Describe a scenario where using a tuple would be preferable over a list?\n",
        "- Use a tuple when storing fixed data like a GPS coordinate (latitude, longitude) that shouldn’t change, ensuring data integrity and allowing it to be used as a dictionary key."
      ],
      "metadata": {
        "id": "PaRNheRiyYks"
      }
    },
    {
      "cell_type": "markdown",
      "source": [
        "13.  How do sets handle duplicate values in Python?\n",
        "- Sets automatically remove duplicate values by storing only unique elements."
      ],
      "metadata": {
        "id": "2WtDGPQRzw7I"
      }
    },
    {
      "cell_type": "markdown",
      "source": [
        "14. How does the “in” keyword work differently for lists and dictionaries?\n",
        "- In lists, in checks for values; in dictionaries, it checks for keys.\n",
        "\n",
        "\n",
        "\n",
        "\n",
        "\n",
        "\n",
        "\n",
        "\n"
      ],
      "metadata": {
        "id": "dny8JBwE0UE3"
      }
    },
    {
      "cell_type": "markdown",
      "source": [
        "15. Can you modify the elements of a tuple? Explain why or why not?\n",
        "- No, you can’t modify tuple elements because tuples are immutable—their contents are fixed after creation."
      ],
      "metadata": {
        "id": "IdCzkAcy0rLd"
      }
    },
    {
      "cell_type": "markdown",
      "source": [
        "16. What is a nested dictionary, and give an example of its use case?\n",
        "- A nested dictionary is a dictionary inside another dictionary. It's useful for storing complex data, like a student's record."
      ],
      "metadata": {
        "id": "-R5Gnhf51S0d"
      }
    },
    {
      "cell_type": "markdown",
      "source": [
        "17.  Describe the time complexity of accessing elements in a dictionary?\n",
        "- Accessing elements in a dictionary has 0(1) average time complexity.\n"
      ],
      "metadata": {
        "id": "cfekaHBi145W"
      }
    },
    {
      "cell_type": "markdown",
      "source": [
        "18. In what situations are lists preferred over dictionaries?\n",
        "- Lists are preferred when order matters, duplicate values are allowed, or when index-based access is needed.\n"
      ],
      "metadata": {
        "id": "8zHTObqa2hsq"
      }
    },
    {
      "cell_type": "markdown",
      "source": [
        "19. Why are dictionaries considered unordered, and how does that affect data retrieval?\n",
        "- mdictionaries considered unordered beacuse they were historically implemented without preserving insertion order.\n",
        "- Retrieval is based on keys, not position, so you can’t access items by index."
      ],
      "metadata": {
        "id": "yNp_mzbj33-v"
      }
    },
    {
      "cell_type": "markdown",
      "source": [
        "20. Explain the difference between a list and a dictionary in terms of data retrieval?\n",
        "- A list accesses elements using their numerical position, whereas a dictionary accesses values using unique keys."
      ],
      "metadata": {
        "id": "ryY1_DPi5UVF"
      }
    },
    {
      "cell_type": "code",
      "source": [
        "# practical question\n",
        "\n",
        "# 1. Create a string with your name and print it\n",
        "\n",
        "name = \"Prince\"\n",
        "print(name)"
      ],
      "metadata": {
        "id": "M9q5tJ5v0SnH"
      },
      "execution_count": null,
      "outputs": []
    },
    {
      "cell_type": "code",
      "source": [
        "#2. Find the length of the string \"Hello World\"\n",
        "\n",
        "text = \"Hello World\"\n",
        "print(len(text))"
      ],
      "metadata": {
        "id": "G1umxX0hQXLo"
      },
      "execution_count": null,
      "outputs": []
    },
    {
      "cell_type": "code",
      "source": [
        "#3. Slice the first 3 characters from the string \"Python Programming\"\n",
        "\n",
        "text = \"Python Programming\"\n",
        "print(text[:3])"
      ],
      "metadata": {
        "id": "HTKC9FVyQe3S"
      },
      "execution_count": null,
      "outputs": []
    },
    {
      "cell_type": "code",
      "source": [
        "#4. Convert the string \"hello\" to uppercase\n",
        "\n",
        "text = \"hello\"\n",
        "print(text.upper())"
      ],
      "metadata": {
        "id": "EZ9unZ9XQnP6"
      },
      "execution_count": null,
      "outputs": []
    },
    {
      "cell_type": "code",
      "source": [
        "#5. Replace the word \"apple\" with \"orange\" in the string \"I like apple\"\n",
        "\n",
        "text = \"I like apple\"\n",
        "print(text.replace(\"apple\", \"orange\"))"
      ],
      "metadata": {
        "id": "7jy2jS36Qrt5"
      },
      "execution_count": null,
      "outputs": []
    },
    {
      "cell_type": "code",
      "source": [
        "#6. Create a list with numbers 1 to 5 and print it\n",
        "numbers = list(range(1, 6))\n",
        "print(numbers)"
      ],
      "metadata": {
        "id": "iu6qPH3TQvuY"
      },
      "execution_count": null,
      "outputs": []
    },
    {
      "cell_type": "code",
      "source": [
        "#7. Append the number 10 to the list [1, 2, 3, 4]\n",
        "\n",
        "numbers = [1, 2, 3, 4]\n",
        "numbers.append(10)\n",
        "print(numbers)"
      ],
      "metadata": {
        "id": "yl4r5-TzQ3wb"
      },
      "execution_count": null,
      "outputs": []
    },
    {
      "cell_type": "code",
      "source": [
        "#8. Remove the number 3 from the list [1, 2, 3, 4, 5]\n",
        "\n",
        "numbers = [1, 2, 3, 4, 5]\n",
        "numbers.remove(3)\n",
        "print(numbers)"
      ],
      "metadata": {
        "id": "MZ1FmNTxRBuG"
      },
      "execution_count": null,
      "outputs": []
    },
    {
      "cell_type": "code",
      "source": [
        "#9. Access the second element in the list ['a', 'b', 'c', 'd']\n",
        "\n",
        "letters = ['a', 'b', 'c', 'd']\n",
        "print(letters[1])"
      ],
      "metadata": {
        "id": "oxO4-5_YREKY"
      },
      "execution_count": null,
      "outputs": []
    },
    {
      "cell_type": "code",
      "source": [
        "#10. Reverse the list [10, 20, 30, 40, 50]\n",
        "\n",
        "numbers = [10, 20, 30, 40, 50]\n",
        "numbers.reverse()\n",
        "print(numbers)"
      ],
      "metadata": {
        "id": "WpSIu6-TRJs2"
      },
      "execution_count": null,
      "outputs": []
    },
    {
      "cell_type": "code",
      "source": [
        "#11. Create a tuple with elements 100, 200, 300 and print it\n",
        "\n",
        "t = (100, 200, 300)\n",
        "print(t)"
      ],
      "metadata": {
        "id": "9ZKUeqr7R43b"
      },
      "execution_count": null,
      "outputs": []
    },
    {
      "cell_type": "code",
      "source": [
        "#12. Access the second-to-last element of the tuple ('red', 'green', 'blue', 'yellow')\n",
        "\n",
        "colors = ('red', 'green', 'blue', 'yellow')\n",
        "print(colors[-2])"
      ],
      "metadata": {
        "id": "lC_x0uhsR691"
      },
      "execution_count": null,
      "outputs": []
    },
    {
      "cell_type": "code",
      "source": [
        "#13. Find the minimum number in the tuple (10, 20, 5, 15)\n",
        "\n",
        "nums = (10, 20, 5, 15)\n",
        "print(min(nums))"
      ],
      "metadata": {
        "id": "0_rVDoZ1SEQU"
      },
      "execution_count": null,
      "outputs": []
    },
    {
      "cell_type": "code",
      "source": [
        "#14. Find the index of the element \"cat\" in the tuple ('dog', 'cat', 'rabbit')\n",
        "\n",
        "animals = ('dog', 'cat', 'rabbit')\n",
        "print(animals.index('cat'))"
      ],
      "metadata": {
        "id": "0g1ztMmfSH-m"
      },
      "execution_count": null,
      "outputs": []
    },
    {
      "cell_type": "code",
      "source": [
        "#15. Create a tuple containing three different fruits and check if \"kiwi\" is in it\n",
        "\n",
        "fruits = ('apple', 'banana', 'kiwi')\n",
        "print('kiwi' in fruits)"
      ],
      "metadata": {
        "id": "3xiyFuR4SN88"
      },
      "execution_count": null,
      "outputs": []
    },
    {
      "cell_type": "code",
      "source": [
        "#16. Create a set with the elements 'a', 'b', 'c' and print it\n",
        "\n",
        "s = {'a', 'b', 'c'}\n",
        "print(s)"
      ],
      "metadata": {
        "id": "_IDTNg_hSRum"
      },
      "execution_count": null,
      "outputs": []
    },
    {
      "cell_type": "code",
      "source": [
        "#17. Clear all elements from the set {1, 2, 3, 4, 5}\n",
        "\n",
        "s = {1, 2, 3, 4, 5}\n",
        "s.clear()\n",
        "print(s)"
      ],
      "metadata": {
        "id": "RR0H7_BHSXTN"
      },
      "execution_count": null,
      "outputs": []
    },
    {
      "cell_type": "code",
      "source": [
        "#18. Remove the element 4 from the set {1, 2, 3, 4}\n",
        "\n",
        "s = {1, 2, 3, 4}\n",
        "s.remove(4)\n",
        "print(s)"
      ],
      "metadata": {
        "id": "rZXSvmB6SbLy"
      },
      "execution_count": null,
      "outputs": []
    },
    {
      "cell_type": "code",
      "source": [
        "#19. Find the union of two sets {1, 2, 3} and {3, 4, 5}\n",
        "\n",
        "a = {1, 2, 3}\n",
        "b = {3, 4, 5}\n",
        "print(a.union(b))"
      ],
      "metadata": {
        "id": "H5IFembvSj8L"
      },
      "execution_count": null,
      "outputs": []
    },
    {
      "cell_type": "code",
      "source": [
        "#20. Find the intersection of two sets {1, 2, 3} and {2, 3, 4}\n",
        "\n",
        "a = {1, 2, 3}\n",
        "b = {2, 3, 4}\n",
        "print(a.intersection(b))"
      ],
      "metadata": {
        "id": "Jdirt0k_Sn6D"
      },
      "execution_count": null,
      "outputs": []
    },
    {
      "cell_type": "code",
      "source": [
        "#21. Create a dictionary with the keys \"name\", \"age\", and \"city\", and print it\n",
        "\n",
        "d = {'name': 'John', 'age': 30, 'city': 'New York'}\n",
        "print(d)"
      ],
      "metadata": {
        "id": "0dTLuUoBS1_I"
      },
      "execution_count": null,
      "outputs": []
    },
    {
      "cell_type": "code",
      "source": [
        "#22. Add a new key-value pair \"country\": \"USA\" to the dictionary {'name': 'John', 'age': 25}\n",
        "\n",
        "d = {'name': 'John', 'age': 25}\n",
        "d['country'] = 'USA'\n",
        "print(d)"
      ],
      "metadata": {
        "id": "l80C6WsTS715"
      },
      "execution_count": null,
      "outputs": []
    },
    {
      "cell_type": "code",
      "source": [
        "#23. Access the value associated with the key \"name\" in the dictionary {'name': 'Alice', 'age': 30}\n",
        "\n",
        "d = {'name': 'Alice', 'age': 30}\n",
        "print(d['name'])"
      ],
      "metadata": {
        "id": "om3F4JDRS_wq"
      },
      "execution_count": null,
      "outputs": []
    },
    {
      "cell_type": "code",
      "source": [
        "#24. Remove the key \"age\" from the dictionary {'name': 'Bob', 'age': 22, 'city': 'New York'}\n",
        "\n",
        "d = {'name': 'Bob', 'age': 22, 'city': 'New York'}\n",
        "del d['age']\n",
        "print(d)"
      ],
      "metadata": {
        "id": "AG7hnIzxTDLJ"
      },
      "execution_count": null,
      "outputs": []
    },
    {
      "cell_type": "code",
      "source": [
        "#25. Check if the key \"city\" exists in the dictionary {'name': 'Alice', 'city': 'Paris'}\n",
        "\n",
        "d = {'name': 'Alice', 'city': 'Paris'}\n",
        "print('city' in d)"
      ],
      "metadata": {
        "id": "Eqw-12uRTHsa"
      },
      "execution_count": null,
      "outputs": []
    },
    {
      "cell_type": "code",
      "source": [
        "#26. Create a list, a tuple, and a dictionary, and print them all\n",
        "\n",
        "l = [1, 2, 3]\n",
        "t = (4, 5, 6)\n",
        "d = {'a': 7, 'b': 8}\n",
        "print(l)\n",
        "print(t)\n",
        "print(d)"
      ],
      "metadata": {
        "id": "vatkUT6XTLnq"
      },
      "execution_count": null,
      "outputs": []
    },
    {
      "cell_type": "code",
      "source": [
        "#27. Create a list of 5 random numbers between 1 and 100, sort it in ascending order, and print the result\n",
        "\n",
        "import random\n",
        "nums = random.sample(range(1, 101), 5)\n",
        "nums.sort()\n",
        "print(nums)"
      ],
      "metadata": {
        "id": "aAjQWVD4TQhC"
      },
      "execution_count": null,
      "outputs": []
    },
    {
      "cell_type": "code",
      "source": [
        "#28. Create a list with strings and print the element at the third index\n",
        "\n",
        "l = ['apple', 'banana', 'cherry', 'date', 'elderberry']\n",
        "print(l[3])"
      ],
      "metadata": {
        "id": "nYIiiQj3TUVU"
      },
      "execution_count": null,
      "outputs": []
    },
    {
      "cell_type": "code",
      "source": [
        "#29. Combine two dictionaries into one and print the result\n",
        "\n",
        "d1 = {'a': 1, 'b': 2}\n",
        "d2 = {'c': 3, 'd': 4}\n",
        "d3 = {**d1, **d2}\n",
        "print(d3)"
      ],
      "metadata": {
        "colab": {
          "base_uri": "https://localhost:8080/"
        },
        "id": "zH9q-NgjTa6p",
        "outputId": "6f701f28-dd78-4960-a6e7-03e497146f5d"
      },
      "execution_count": 1,
      "outputs": [
        {
          "output_type": "stream",
          "name": "stdout",
          "text": [
            "{'a': 1, 'b': 2, 'c': 3, 'd': 4}\n"
          ]
        }
      ]
    },
    {
      "cell_type": "code",
      "source": [
        "#30. Convert a list of strings into a set\n",
        "\n",
        "l = ['apple', 'banana', 'cherry']\n",
        "s = set(l)\n",
        "print(s)"
      ],
      "metadata": {
        "id": "YKJf4j12TigI"
      },
      "execution_count": null,
      "outputs": []
    }
  ]
}